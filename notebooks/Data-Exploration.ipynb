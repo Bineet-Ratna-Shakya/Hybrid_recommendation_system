{
 "cells": [
  {
   "cell_type": "markdown",
   "id": "f3d5f501-a768-47a5-ae37-77c2925a08ab",
   "metadata": {
    "tags": []
   },
   "source": [
    "# Netflix Data Analysis\n",
    "\n",
    "## 1. Introduction\n",
    "This notebook provides an in-depth analysis of Netflix's content library. It includes data cleaning, exploration, and visualization to uncover trends in content production.\n"
   ]
  },
  {
   "cell_type": "markdown",
   "id": "4e7e5220-ddb2-4836-a2d0-89e809b7290c",
   "metadata": {
    "tags": []
   },
   "source": [
    "<h2>Library Imports </h2>"
   ]
  },
  {
   "cell_type": "code",
   "execution_count": 6,
   "id": "e71a7208-386c-4be2-8b27-97b4da18a035",
   "metadata": {
    "tags": []
   },
   "outputs": [],
   "source": [
    "import pandas as pd\n",
    "import numpy as np\n",
    "import seaborn as sns\n",
    "import matplotlib.pyplot as plt\n",
    "from matplotlib.colors import LinearSegmentedColormap\n",
    "from scipy.signal import savgol_filter"
   ]
  },
  {
   "cell_type": "markdown",
   "id": "8fba31f2-f9b1-497d-8abd-23beee37ad16",
   "metadata": {},
   "source": [
    "<h1>1. Data Preparation </h1>"
   ]
  },
  {
   "cell_type": "markdown",
   "id": "d3a292ae-5412-4f05-927b-a4948d217e1d",
   "metadata": {
    "tags": []
   },
   "source": [
    "<h2>1.1 Loading the Dataset </h2>"
   ]
  },
  {
   "cell_type": "code",
   "execution_count": 7,
   "id": "bd824a78-de7c-4472-9269-537d105bb2fb",
   "metadata": {
    "tags": []
   },
   "outputs": [
    {
     "data": {
      "text/html": [
       "<div>\n",
       "<style scoped>\n",
       "    .dataframe tbody tr th:only-of-type {\n",
       "        vertical-align: middle;\n",
       "    }\n",
       "\n",
       "    .dataframe tbody tr th {\n",
       "        vertical-align: top;\n",
       "    }\n",
       "\n",
       "    .dataframe thead th {\n",
       "        text-align: right;\n",
       "    }\n",
       "</style>\n",
       "<table border=\"1\" class=\"dataframe\">\n",
       "  <thead>\n",
       "    <tr style=\"text-align: right;\">\n",
       "      <th></th>\n",
       "      <th>show_id</th>\n",
       "      <th>type</th>\n",
       "      <th>title</th>\n",
       "      <th>director</th>\n",
       "      <th>cast</th>\n",
       "      <th>country</th>\n",
       "      <th>date_added</th>\n",
       "      <th>release_year</th>\n",
       "      <th>rating</th>\n",
       "      <th>duration</th>\n",
       "      <th>listed_in</th>\n",
       "      <th>description</th>\n",
       "    </tr>\n",
       "  </thead>\n",
       "  <tbody>\n",
       "    <tr>\n",
       "      <th>0</th>\n",
       "      <td>s1</td>\n",
       "      <td>Movie</td>\n",
       "      <td>Dick Johnson Is Dead</td>\n",
       "      <td>Kirsten Johnson</td>\n",
       "      <td>NaN</td>\n",
       "      <td>United States</td>\n",
       "      <td>September 25, 2021</td>\n",
       "      <td>2020</td>\n",
       "      <td>PG-13</td>\n",
       "      <td>90 min</td>\n",
       "      <td>Documentaries</td>\n",
       "      <td>As her father nears the end of his life, filmm...</td>\n",
       "    </tr>\n",
       "    <tr>\n",
       "      <th>1</th>\n",
       "      <td>s2</td>\n",
       "      <td>TV Show</td>\n",
       "      <td>Blood &amp; Water</td>\n",
       "      <td>NaN</td>\n",
       "      <td>Ama Qamata, Khosi Ngema, Gail Mabalane, Thaban...</td>\n",
       "      <td>South Africa</td>\n",
       "      <td>September 24, 2021</td>\n",
       "      <td>2021</td>\n",
       "      <td>TV-MA</td>\n",
       "      <td>2 Seasons</td>\n",
       "      <td>International TV Shows, TV Dramas, TV Mysteries</td>\n",
       "      <td>After crossing paths at a party, a Cape Town t...</td>\n",
       "    </tr>\n",
       "    <tr>\n",
       "      <th>2</th>\n",
       "      <td>s3</td>\n",
       "      <td>TV Show</td>\n",
       "      <td>Ganglands</td>\n",
       "      <td>Julien Leclercq</td>\n",
       "      <td>Sami Bouajila, Tracy Gotoas, Samuel Jouy, Nabi...</td>\n",
       "      <td>NaN</td>\n",
       "      <td>September 24, 2021</td>\n",
       "      <td>2021</td>\n",
       "      <td>TV-MA</td>\n",
       "      <td>1 Season</td>\n",
       "      <td>Crime TV Shows, International TV Shows, TV Act...</td>\n",
       "      <td>To protect his family from a powerful drug lor...</td>\n",
       "    </tr>\n",
       "    <tr>\n",
       "      <th>3</th>\n",
       "      <td>s4</td>\n",
       "      <td>TV Show</td>\n",
       "      <td>Jailbirds New Orleans</td>\n",
       "      <td>NaN</td>\n",
       "      <td>NaN</td>\n",
       "      <td>NaN</td>\n",
       "      <td>September 24, 2021</td>\n",
       "      <td>2021</td>\n",
       "      <td>TV-MA</td>\n",
       "      <td>1 Season</td>\n",
       "      <td>Docuseries, Reality TV</td>\n",
       "      <td>Feuds, flirtations and toilet talk go down amo...</td>\n",
       "    </tr>\n",
       "    <tr>\n",
       "      <th>4</th>\n",
       "      <td>s5</td>\n",
       "      <td>TV Show</td>\n",
       "      <td>Kota Factory</td>\n",
       "      <td>NaN</td>\n",
       "      <td>Mayur More, Jitendra Kumar, Ranjan Raj, Alam K...</td>\n",
       "      <td>India</td>\n",
       "      <td>September 24, 2021</td>\n",
       "      <td>2021</td>\n",
       "      <td>TV-MA</td>\n",
       "      <td>2 Seasons</td>\n",
       "      <td>International TV Shows, Romantic TV Shows, TV ...</td>\n",
       "      <td>In a city of coaching centers known to train I...</td>\n",
       "    </tr>\n",
       "    <tr>\n",
       "      <th>5</th>\n",
       "      <td>s6</td>\n",
       "      <td>TV Show</td>\n",
       "      <td>Midnight Mass</td>\n",
       "      <td>Mike Flanagan</td>\n",
       "      <td>Kate Siegel, Zach Gilford, Hamish Linklater, H...</td>\n",
       "      <td>NaN</td>\n",
       "      <td>September 24, 2021</td>\n",
       "      <td>2021</td>\n",
       "      <td>TV-MA</td>\n",
       "      <td>1 Season</td>\n",
       "      <td>TV Dramas, TV Horror, TV Mysteries</td>\n",
       "      <td>The arrival of a charismatic young priest brin...</td>\n",
       "    </tr>\n",
       "    <tr>\n",
       "      <th>6</th>\n",
       "      <td>s7</td>\n",
       "      <td>Movie</td>\n",
       "      <td>My Little Pony: A New Generation</td>\n",
       "      <td>Robert Cullen, José Luis Ucha</td>\n",
       "      <td>Vanessa Hudgens, Kimiko Glenn, James Marsden, ...</td>\n",
       "      <td>NaN</td>\n",
       "      <td>September 24, 2021</td>\n",
       "      <td>2021</td>\n",
       "      <td>PG</td>\n",
       "      <td>91 min</td>\n",
       "      <td>Children &amp; Family Movies</td>\n",
       "      <td>Equestria's divided. But a bright-eyed hero be...</td>\n",
       "    </tr>\n",
       "    <tr>\n",
       "      <th>7</th>\n",
       "      <td>s8</td>\n",
       "      <td>Movie</td>\n",
       "      <td>Sankofa</td>\n",
       "      <td>Haile Gerima</td>\n",
       "      <td>Kofi Ghanaba, Oyafunmike Ogunlano, Alexandra D...</td>\n",
       "      <td>United States, Ghana, Burkina Faso, United Kin...</td>\n",
       "      <td>September 24, 2021</td>\n",
       "      <td>1993</td>\n",
       "      <td>TV-MA</td>\n",
       "      <td>125 min</td>\n",
       "      <td>Dramas, Independent Movies, International Movies</td>\n",
       "      <td>On a photo shoot in Ghana, an American model s...</td>\n",
       "    </tr>\n",
       "    <tr>\n",
       "      <th>8</th>\n",
       "      <td>s9</td>\n",
       "      <td>TV Show</td>\n",
       "      <td>The Great British Baking Show</td>\n",
       "      <td>Andy Devonshire</td>\n",
       "      <td>Mel Giedroyc, Sue Perkins, Mary Berry, Paul Ho...</td>\n",
       "      <td>United Kingdom</td>\n",
       "      <td>September 24, 2021</td>\n",
       "      <td>2021</td>\n",
       "      <td>TV-14</td>\n",
       "      <td>9 Seasons</td>\n",
       "      <td>British TV Shows, Reality TV</td>\n",
       "      <td>A talented batch of amateur bakers face off in...</td>\n",
       "    </tr>\n",
       "    <tr>\n",
       "      <th>9</th>\n",
       "      <td>s10</td>\n",
       "      <td>Movie</td>\n",
       "      <td>The Starling</td>\n",
       "      <td>Theodore Melfi</td>\n",
       "      <td>Melissa McCarthy, Chris O'Dowd, Kevin Kline, T...</td>\n",
       "      <td>United States</td>\n",
       "      <td>September 24, 2021</td>\n",
       "      <td>2021</td>\n",
       "      <td>PG-13</td>\n",
       "      <td>104 min</td>\n",
       "      <td>Comedies, Dramas</td>\n",
       "      <td>A woman adjusting to life after a loss contend...</td>\n",
       "    </tr>\n",
       "  </tbody>\n",
       "</table>\n",
       "</div>"
      ],
      "text/plain": [
       "  show_id     type                             title  \\\n",
       "0      s1    Movie              Dick Johnson Is Dead   \n",
       "1      s2  TV Show                     Blood & Water   \n",
       "2      s3  TV Show                         Ganglands   \n",
       "3      s4  TV Show             Jailbirds New Orleans   \n",
       "4      s5  TV Show                      Kota Factory   \n",
       "5      s6  TV Show                     Midnight Mass   \n",
       "6      s7    Movie  My Little Pony: A New Generation   \n",
       "7      s8    Movie                           Sankofa   \n",
       "8      s9  TV Show     The Great British Baking Show   \n",
       "9     s10    Movie                      The Starling   \n",
       "\n",
       "                        director  \\\n",
       "0                Kirsten Johnson   \n",
       "1                            NaN   \n",
       "2                Julien Leclercq   \n",
       "3                            NaN   \n",
       "4                            NaN   \n",
       "5                  Mike Flanagan   \n",
       "6  Robert Cullen, José Luis Ucha   \n",
       "7                   Haile Gerima   \n",
       "8                Andy Devonshire   \n",
       "9                 Theodore Melfi   \n",
       "\n",
       "                                                cast  \\\n",
       "0                                                NaN   \n",
       "1  Ama Qamata, Khosi Ngema, Gail Mabalane, Thaban...   \n",
       "2  Sami Bouajila, Tracy Gotoas, Samuel Jouy, Nabi...   \n",
       "3                                                NaN   \n",
       "4  Mayur More, Jitendra Kumar, Ranjan Raj, Alam K...   \n",
       "5  Kate Siegel, Zach Gilford, Hamish Linklater, H...   \n",
       "6  Vanessa Hudgens, Kimiko Glenn, James Marsden, ...   \n",
       "7  Kofi Ghanaba, Oyafunmike Ogunlano, Alexandra D...   \n",
       "8  Mel Giedroyc, Sue Perkins, Mary Berry, Paul Ho...   \n",
       "9  Melissa McCarthy, Chris O'Dowd, Kevin Kline, T...   \n",
       "\n",
       "                                             country          date_added  \\\n",
       "0                                      United States  September 25, 2021   \n",
       "1                                       South Africa  September 24, 2021   \n",
       "2                                                NaN  September 24, 2021   \n",
       "3                                                NaN  September 24, 2021   \n",
       "4                                              India  September 24, 2021   \n",
       "5                                                NaN  September 24, 2021   \n",
       "6                                                NaN  September 24, 2021   \n",
       "7  United States, Ghana, Burkina Faso, United Kin...  September 24, 2021   \n",
       "8                                     United Kingdom  September 24, 2021   \n",
       "9                                      United States  September 24, 2021   \n",
       "\n",
       "   release_year rating   duration  \\\n",
       "0          2020  PG-13     90 min   \n",
       "1          2021  TV-MA  2 Seasons   \n",
       "2          2021  TV-MA   1 Season   \n",
       "3          2021  TV-MA   1 Season   \n",
       "4          2021  TV-MA  2 Seasons   \n",
       "5          2021  TV-MA   1 Season   \n",
       "6          2021     PG     91 min   \n",
       "7          1993  TV-MA    125 min   \n",
       "8          2021  TV-14  9 Seasons   \n",
       "9          2021  PG-13    104 min   \n",
       "\n",
       "                                           listed_in  \\\n",
       "0                                      Documentaries   \n",
       "1    International TV Shows, TV Dramas, TV Mysteries   \n",
       "2  Crime TV Shows, International TV Shows, TV Act...   \n",
       "3                             Docuseries, Reality TV   \n",
       "4  International TV Shows, Romantic TV Shows, TV ...   \n",
       "5                 TV Dramas, TV Horror, TV Mysteries   \n",
       "6                           Children & Family Movies   \n",
       "7   Dramas, Independent Movies, International Movies   \n",
       "8                       British TV Shows, Reality TV   \n",
       "9                                   Comedies, Dramas   \n",
       "\n",
       "                                         description  \n",
       "0  As her father nears the end of his life, filmm...  \n",
       "1  After crossing paths at a party, a Cape Town t...  \n",
       "2  To protect his family from a powerful drug lor...  \n",
       "3  Feuds, flirtations and toilet talk go down amo...  \n",
       "4  In a city of coaching centers known to train I...  \n",
       "5  The arrival of a charismatic young priest brin...  \n",
       "6  Equestria's divided. But a bright-eyed hero be...  \n",
       "7  On a photo shoot in Ghana, an American model s...  \n",
       "8  A talented batch of amateur bakers face off in...  \n",
       "9  A woman adjusting to life after a loss contend...  "
      ]
     },
     "execution_count": 7,
     "metadata": {},
     "output_type": "execute_result"
    }
   ],
   "source": [
    "# loading the dataset.\n",
    "data = pd.read_csv('/Users/soul/Documents/Movie recommendation system/data/netflix_titles.csv')\n",
    "data.head(10)"
   ]
  },
  {
   "cell_type": "markdown",
   "id": "03046707-07cf-43ee-8bd9-cd32f122b776",
   "metadata": {},
   "source": [
    "<h2>1.2 Shape of data </h2>"
   ]
  },
  {
   "cell_type": "code",
   "execution_count": 8,
   "id": "cb48f025-ed11-4749-9593-cededc675158",
   "metadata": {
    "tags": []
   },
   "outputs": [
    {
     "data": {
      "text/plain": [
       "(8807, 12)"
      ]
     },
     "execution_count": 8,
     "metadata": {},
     "output_type": "execute_result"
    }
   ],
   "source": [
    "data.shape"
   ]
  },
  {
   "cell_type": "markdown",
   "id": "47724f4a-e60a-41ab-878e-27eb8be2315c",
   "metadata": {},
   "source": [
    "<h2>1.3 Columns in dataset </h2>"
   ]
  },
  {
   "cell_type": "code",
   "execution_count": 9,
   "id": "58c4eefb-d859-456a-8e09-b688d8cecbd6",
   "metadata": {
    "tags": []
   },
   "outputs": [
    {
     "data": {
      "text/plain": [
       "Index(['show_id', 'type', 'title', 'director', 'cast', 'country', 'date_added',\n",
       "       'release_year', 'rating', 'duration', 'listed_in', 'description'],\n",
       "      dtype='object')"
      ]
     },
     "execution_count": 9,
     "metadata": {},
     "output_type": "execute_result"
    }
   ],
   "source": [
    "data.columns"
   ]
  },
  {
   "cell_type": "markdown",
   "id": "84df531d-2f7a-405f-87c8-683fa6153a1b",
   "metadata": {},
   "source": [
    "<h1>2 Cleaning the Dataset </h1>"
   ]
  },
  {
   "cell_type": "markdown",
   "id": "64f229f4-5005-4955-bc39-18bf9336da71",
   "metadata": {
    "tags": []
   },
   "source": [
    "<h3>2.1 Checking for missing Values </h3>"
   ]
  },
  {
   "cell_type": "code",
   "execution_count": 10,
   "id": "243de33f-f372-4d36-a249-3b5ca14354ee",
   "metadata": {
    "tags": []
   },
   "outputs": [
    {
     "data": {
      "text/plain": [
       "show_id            0\n",
       "type               0\n",
       "title              0\n",
       "director        2634\n",
       "cast             825\n",
       "country          831\n",
       "date_added        10\n",
       "release_year       0\n",
       "rating             4\n",
       "duration           3\n",
       "listed_in          0\n",
       "description        0\n",
       "dtype: int64"
      ]
     },
     "execution_count": 10,
     "metadata": {},
     "output_type": "execute_result"
    }
   ],
   "source": [
    "data.isnull().sum()"
   ]
  },
  {
   "cell_type": "markdown",
   "id": "d83bd92f-79ca-496f-8bb8-6f1607861c9a",
   "metadata": {},
   "source": [
    "<h3>2.2 Checking for Unique Values </h3>"
   ]
  },
  {
   "cell_type": "code",
   "execution_count": 11,
   "id": "b85a8acf-5beb-4bd4-8eaf-6079f83c0cc7",
   "metadata": {
    "tags": []
   },
   "outputs": [
    {
     "data": {
      "text/plain": [
       "show_id         8807\n",
       "type               2\n",
       "title           8807\n",
       "director        4528\n",
       "cast            7692\n",
       "country          748\n",
       "date_added      1767\n",
       "release_year      74\n",
       "rating            17\n",
       "duration         220\n",
       "listed_in        514\n",
       "description     8775\n",
       "dtype: int64"
      ]
     },
     "execution_count": 11,
     "metadata": {},
     "output_type": "execute_result"
    }
   ],
   "source": [
    "data.nunique()"
   ]
  },
  {
   "cell_type": "markdown",
   "id": "e93a1105-66bb-4396-a723-894bf6c33fc2",
   "metadata": {},
   "source": [
    "<h3>2.3 Checking for Duplicate Values </h2>"
   ]
  },
  {
   "cell_type": "code",
   "execution_count": 12,
   "id": "3d734e49-5afb-440b-9942-c21e69a25f21",
   "metadata": {
    "tags": []
   },
   "outputs": [
    {
     "data": {
      "text/plain": [
       "np.int64(0)"
      ]
     },
     "execution_count": 12,
     "metadata": {},
     "output_type": "execute_result"
    }
   ],
   "source": [
    "data.duplicated().sum()"
   ]
  },
  {
   "cell_type": "markdown",
   "id": "7a119246-ee54-4733-ba4f-eab7aedb39a2",
   "metadata": {
    "tags": []
   },
   "source": [
    "<h1>3. Handling Missing Values </h1>"
   ]
  },
  {
   "cell_type": "markdown",
   "id": "f25be9fb-39b4-4343-a3ee-59f83a084de4",
   "metadata": {
    "tags": []
   },
   "source": [
    "<h2> Replacing missing values in 'country' with the mode (most common) country </h2>"
   ]
  },
  {
   "cell_type": "code",
   "execution_count": 13,
   "id": "4704923a-2bb9-4017-bfc9-a37f6f55e84c",
   "metadata": {
    "tags": []
   },
   "outputs": [],
   "source": [
    "mode_country = data['country'].mode()[0]\n",
    "data['country'] = data['country'].fillna(mode_country)"
   ]
  },
  {
   "cell_type": "markdown",
   "id": "796ae09a-7c40-485f-a3ac-48defe5cc2c9",
   "metadata": {},
   "source": [
    "<h2>Replacing missing values in 'director' with a placeholder </h2>"
   ]
  },
  {
   "cell_type": "code",
   "execution_count": 14,
   "id": "f3e09475-d92c-46a5-bc1b-d1654dec6373",
   "metadata": {
    "tags": []
   },
   "outputs": [],
   "source": [
    "data['director'] = data['director'].fillna('Unknown')"
   ]
  },
  {
   "cell_type": "markdown",
   "id": "cb2819ca-0fec-49d4-8da2-b1d2e3f36e57",
   "metadata": {},
   "source": [
    "<h2>Replacing missing values in 'cast' with a placeholder </h2>"
   ]
  },
  {
   "cell_type": "code",
   "execution_count": 15,
   "id": "b715119e-67aa-49b0-a882-8ddb09c059ce",
   "metadata": {
    "tags": []
   },
   "outputs": [],
   "source": [
    "data['cast'] = data['cast'].fillna('Unknown')"
   ]
  },
  {
   "cell_type": "markdown",
   "id": "3b32a775-f35d-4797-a362-39280c0c3a54",
   "metadata": {},
   "source": [
    "<h2> Replacing missing values in 'rating' with a placeholder </h2>"
   ]
  },
  {
   "cell_type": "code",
   "execution_count": 16,
   "id": "a6a00136-f640-4935-a09e-f96559a4cab4",
   "metadata": {
    "tags": []
   },
   "outputs": [],
   "source": [
    "data['rating'] = data['rating'].fillna('Unknown')"
   ]
  },
  {
   "cell_type": "markdown",
   "id": "9ed619d2-1c92-4bbe-a254-99cb1f571f49",
   "metadata": {},
   "source": [
    "<h2> Replacing missing values in 'duration' with a placeholder </h2>"
   ]
  },
  {
   "cell_type": "code",
   "execution_count": 17,
   "id": "c95b6c5f-98d7-48eb-8c48-69c27d5bcdce",
   "metadata": {
    "tags": []
   },
   "outputs": [],
   "source": [
    "data['duration'] = data['duration'].fillna('Unknown')"
   ]
  },
  {
   "cell_type": "markdown",
   "id": "563c3933-0de6-480a-ba3d-423ec1660fbe",
   "metadata": {
    "tags": []
   },
   "source": [
    "<h2> Replacing missing values in 'date_added' with a placeholder </h2>"
   ]
  },
  {
   "cell_type": "code",
   "execution_count": 18,
   "id": "b870e59b-8a59-4004-a7bc-9fa769cc0faf",
   "metadata": {
    "tags": []
   },
   "outputs": [],
   "source": [
    "data['date_added'] = data['date_added'].fillna('Unknown')"
   ]
  },
  {
   "cell_type": "code",
   "execution_count": 19,
   "id": "96a1bf5d-0914-4b39-b454-6a4238155551",
   "metadata": {
    "tags": []
   },
   "outputs": [],
   "source": [
    "data = data.drop_duplicates()"
   ]
  },
  {
   "cell_type": "markdown",
   "id": "d24f4887-0efd-4d59-a42d-058b03ab8113",
   "metadata": {},
   "source": [
    "<h1>3.1 Checking the Values after Handling Missing Values </h1>"
   ]
  },
  {
   "cell_type": "code",
   "execution_count": 20,
   "id": "ee6861ba-baf7-4cec-bea7-dfa72991345f",
   "metadata": {
    "tags": []
   },
   "outputs": [
    {
     "data": {
      "text/plain": [
       "show_id         0\n",
       "type            0\n",
       "title           0\n",
       "director        0\n",
       "cast            0\n",
       "country         0\n",
       "date_added      0\n",
       "release_year    0\n",
       "rating          0\n",
       "duration        0\n",
       "listed_in       0\n",
       "description     0\n",
       "dtype: int64"
      ]
     },
     "execution_count": 20,
     "metadata": {},
     "output_type": "execute_result"
    }
   ],
   "source": [
    "data.isnull().sum()"
   ]
  },
  {
   "cell_type": "code",
   "execution_count": 21,
   "id": "552b4331-9d37-4b94-9ac1-68fa5d925b78",
   "metadata": {
    "tags": []
   },
   "outputs": [
    {
     "name": "stdout",
     "output_type": "stream",
     "text": [
      "<class 'pandas.core.frame.DataFrame'>\n",
      "RangeIndex: 8807 entries, 0 to 8806\n",
      "Data columns (total 12 columns):\n",
      " #   Column        Non-Null Count  Dtype \n",
      "---  ------        --------------  ----- \n",
      " 0   show_id       8807 non-null   object\n",
      " 1   type          8807 non-null   object\n",
      " 2   title         8807 non-null   object\n",
      " 3   director      8807 non-null   object\n",
      " 4   cast          8807 non-null   object\n",
      " 5   country       8807 non-null   object\n",
      " 6   date_added    8807 non-null   object\n",
      " 7   release_year  8807 non-null   int64 \n",
      " 8   rating        8807 non-null   object\n",
      " 9   duration      8807 non-null   object\n",
      " 10  listed_in     8807 non-null   object\n",
      " 11  description   8807 non-null   object\n",
      "dtypes: int64(1), object(11)\n",
      "memory usage: 825.8+ KB\n"
     ]
    }
   ],
   "source": [
    "data.info()"
   ]
  },
  {
   "cell_type": "markdown",
   "id": "e6b81f6e-8a2f-4a47-a3aa-cd7e5c2f93f9",
   "metadata": {},
   "source": [
    "<h1> Data Analysis </h1>"
   ]
  },
  {
   "cell_type": "markdown",
   "id": "6873e0bd-31b6-4e0c-8fea-aa95f17dea04",
   "metadata": {},
   "source": [
    "<h1> Counting and Sorting Shows by Release Year </h1>"
   ]
  },
  {
   "cell_type": "code",
   "execution_count": 22,
   "id": "5cfff54f-e473-49bb-9bd1-2e469136f680",
   "metadata": {
    "tags": []
   },
   "outputs": [
    {
     "name": "stdout",
     "output_type": "stream",
     "text": [
      "release_year\n",
      "1925       1\n",
      "1942       2\n",
      "1943       3\n",
      "1944       3\n",
      "1945       4\n",
      "        ... \n",
      "2017    1032\n",
      "2018    1147\n",
      "2019    1030\n",
      "2020     953\n",
      "2021     592\n",
      "Name: count, Length: 74, dtype: int64\n"
     ]
    }
   ],
   "source": [
    "shows_each_year = data.groupby('release_year').size()\n",
    "shows_each_year = data['release_year'].value_counts().sort_index()\n",
    "print(shows_each_year)"
   ]
  },
  {
   "cell_type": "markdown",
   "id": "fc0c85aa-1dae-4436-a0ba-285c6dcfd562",
   "metadata": {},
   "source": [
    "<h1> Visualizing Shows Released Each Year in a Line Graph </h1>"
   ]
  },
  {
   "cell_type": "code",
   "execution_count": 23,
   "id": "625ef331-f0d3-454f-9c6b-e1584aaa2392",
   "metadata": {
    "tags": []
   },
   "outputs": [
    {
     "ename": "NameError",
     "evalue": "name 'specific_years' is not defined",
     "output_type": "error",
     "traceback": [
      "\u001b[0;31m---------------------------------------------------------------------------\u001b[0m",
      "\u001b[0;31mNameError\u001b[0m                                 Traceback (most recent call last)",
      "Cell \u001b[0;32mIn[23], line 13\u001b[0m\n\u001b[1;32m      9\u001b[0m smoothed_values \u001b[38;5;241m=\u001b[39m savgol_filter(shows_each_year\u001b[38;5;241m.\u001b[39mvalues, window_length\u001b[38;5;241m=\u001b[39m\u001b[38;5;241m11\u001b[39m, polyorder\u001b[38;5;241m=\u001b[39m\u001b[38;5;241m2\u001b[39m)\n\u001b[1;32m     10\u001b[0m plt\u001b[38;5;241m.\u001b[39mplot(shows_each_year\u001b[38;5;241m.\u001b[39mindex, smoothed_values, marker\u001b[38;5;241m=\u001b[39m\u001b[38;5;124m'\u001b[39m\u001b[38;5;124m.\u001b[39m\u001b[38;5;124m'\u001b[39m, linestyle\u001b[38;5;241m=\u001b[39m\u001b[38;5;124m'\u001b[39m\u001b[38;5;124m--\u001b[39m\u001b[38;5;124m'\u001b[39m, color\u001b[38;5;241m=\u001b[39m\u001b[38;5;124m'\u001b[39m\u001b[38;5;124mblack\u001b[39m\u001b[38;5;124m'\u001b[39m, \n\u001b[1;32m     11\u001b[0m          linewidth\u001b[38;5;241m=\u001b[39m\u001b[38;5;241m2\u001b[39m, label\u001b[38;5;241m=\u001b[39m\u001b[38;5;124m'\u001b[39m\u001b[38;5;124mSmoothed Number of Shows\u001b[39m\u001b[38;5;124m'\u001b[39m)\n\u001b[0;32m---> 13\u001b[0m specific_values \u001b[38;5;241m=\u001b[39m shows_each_year\u001b[38;5;241m.\u001b[39mloc[\u001b[43mspecific_years\u001b[49m]\n\u001b[1;32m     14\u001b[0m plt\u001b[38;5;241m.\u001b[39mscatter(specific_years, specific_values, color\u001b[38;5;241m=\u001b[39m\u001b[38;5;124m'\u001b[39m\u001b[38;5;124mred\u001b[39m\u001b[38;5;124m'\u001b[39m, zorder\u001b[38;5;241m=\u001b[39m\u001b[38;5;241m5\u001b[39m, label\u001b[38;5;241m=\u001b[39m\u001b[38;5;124m'\u001b[39m\u001b[38;5;124mSpecific Years\u001b[39m\u001b[38;5;124m'\u001b[39m)\n\u001b[1;32m     16\u001b[0m plt\u001b[38;5;241m.\u001b[39mxticks(ticks\u001b[38;5;241m=\u001b[39mshows_each_year\u001b[38;5;241m.\u001b[39mindex, rotation\u001b[38;5;241m=\u001b[39m\u001b[38;5;241m90\u001b[39m, fontsize\u001b[38;5;241m=\u001b[39m\u001b[38;5;241m10\u001b[39m)\n",
      "\u001b[0;31mNameError\u001b[0m: name 'specific_years' is not defined"
     ]
    },
    {
     "data": {
      "image/png": "[encoded data removed]",
      "text/plain": [
       "<Figure size 1600x800 with 1 Axes>"
      ]
     },
     "metadata": {},
     "output_type": "display_data"
    }
   ],
   "source": [
    "plt.figure(figsize=(16, 8))\n",
    "\n",
    "plt.plot(shows_each_year.index, shows_each_year.values, marker='o', linestyle='-', color='#e50914', \n",
    "         linewidth=2, label='Number of Shows')\n",
    "\n",
    "plt.fill_between(shows_each_year.index, shows_each_year.values, color='#b20710', alpha=0.5)\n",
    "\n",
    "#Savitzky-Golay filter\n",
    "smoothed_values = savgol_filter(shows_each_year.values, window_length=11, polyorder=2)\n",
    "plt.plot(shows_each_year.index, smoothed_values, marker='.', linestyle='--', color='black', \n",
    "         linewidth=2, label='Smoothed Number of Shows')\n",
    "\n",
    "specific_values = shows_each_year.loc[specific_years]\n",
    "plt.scatter(specific_years, specific_values, color='red', zorder=5, label='Specific Years')\n",
    "\n",
    "plt.xticks(ticks=shows_each_year.index, rotation=90, fontsize=10)\n",
    "\n",
    "plt.title('Number of Shows Released Each Year', fontsize=16)\n",
    "plt.xlabel('Release Year', fontsize=14)\n",
    "plt.ylabel('Number of Shows', fontsize=14)\n",
    "\n",
    "plt.legend(fontsize=12)\n",
    "plt.grid(True, linestyle='--', alpha=0.7)\n",
    "\n",
    "plt.tight_layout()\n",
    "\n",
    "plt.show()"
   ]
  },
  {
   "cell_type": "markdown",
   "id": "26e7476e-f62e-42f8-88cb-1d27e8944eaa",
   "metadata": {},
   "source": [
    "<h1> Visualizing shows released Each Year in a Histogram </h1>"
   ]
  },
  {
   "cell_type": "code",
   "execution_count": null,
   "id": "03a17da8-f823-42b7-9ba8-25486cef2a65",
   "metadata": {
    "tags": []
   },
   "outputs": [],
   "source": [
    "plt.figure(figsize=(16, 8))\n",
    "\n",
    "plt.hist(shows_each_year.index, weights=shows_each_year.values, bins=len(shows_each_year.index), \n",
    "         color='#b20710', edgecolor='black')\n",
    "\n",
    "plt.title('Histogram of Number of Shows Released Each Year', fontsize=16)\n",
    "plt.xlabel('Release Year', fontsize=14)\n",
    "plt.ylabel('Number of Shows', fontsize=14)\n",
    "\n",
    "plt.xticks(ticks=shows_each_year.index, rotation=90, fontsize=10)\n",
    "\n",
    "plt.tight_layout()\n",
    "\n",
    "plt.show()\n"
   ]
  },
  {
   "cell_type": "code",
   "execution_count": null,
   "id": "54d653e5-ac23-4bbc-82b8-ae97adfd88b4",
   "metadata": {
    "tags": []
   },
   "outputs": [],
   "source": [
    "data.columns"
   ]
  },
  {
   "cell_type": "markdown",
   "id": "a09e4fc1-0723-4615-9fcc-e1c65ac418df",
   "metadata": {},
   "source": [
    "<h1> Top 10 Common Show Groups </h1>"
   ]
  },
  {
   "cell_type": "code",
   "execution_count": null,
   "id": "5723188c-4227-43bd-be65-137d59fd126f",
   "metadata": {
    "tags": []
   },
   "outputs": [],
   "source": [
    "genres = data['listed_in'].dropna()\n",
    "\n",
    "genre_list = [genre for sublist in genres.str.split(', ') for genre in sublist]\n",
    "genre_data = pd.DataFrame(genre_list, columns=['Genre'])\n",
    "genre_counts_data = genre_data['Genre'].value_counts().reset_index()\n",
    "genre_counts_data.columns = ['Genre', 'Count']\n",
    "genre_counts_data = genre_counts_data.sort_values(by='Count', ascending=False)\n",
    "print(genre_counts_data.head(10))"
   ]
  },
  {
   "cell_type": "markdown",
   "id": "3d25b404-9171-4675-b0bc-297f053e07d1",
   "metadata": {},
   "source": [
    "<h1>Visualizing the top 10 Common show Groups </h1>"
   ]
  },
  {
   "cell_type": "code",
   "execution_count": null,
   "id": "8fdbceb9-37d3-47e1-b1b1-e04caa51de13",
   "metadata": {
    "tags": []
   },
   "outputs": [],
   "source": [
    "genre_list = [genre for sublist in genres.str.split(', ') for genre in sublist]\n",
    "genre_data = pd.DataFrame(genre_list, columns=['Genre'])\n",
    "genre_counts_data = genre_data['Genre'].value_counts().reset_index()\n",
    "genre_counts_data.columns = ['Genre', 'Count']\n",
    "top_genres = genre_counts_data.head(10)\n",
    "colors = ['#400000', '#600000', '#800000', '#A00000', '#C00000', '#E00000', \n",
    "          '#FF0000', '#FF4040', '#FF8080', '#ffdade']\n",
    "plt.figure(figsize=(15, 10))\n",
    "wedges, texts, autotexts = plt.pie(top_genres['Count'], labels=top_genres['Genre'], autopct='%1.1f%%', \n",
    "                                   colors=colors, startangle=140, textprops={'color': 'black'}, \n",
    "                                   wedgeprops={'edgecolor': 'black', 'linewidth': 2})\n",
    "\n",
    "for autotext in autotexts:\n",
    "    autotext.set_color('white')\n",
    "plt.title('Top 10 Most Common Show Groups', fontsize=16, color='black')\n",
    "plt.show()\n"
   ]
  },
  {
   "cell_type": "markdown",
   "id": "3738c7d6-6d50-4060-a7c3-be680948d740",
   "metadata": {},
   "source": [
    "<h1> Top 10 Genres </h1>"
   ]
  },
  {
   "cell_type": "code",
   "execution_count": null,
   "id": "96ef9ddd-8c35-4491-830f-f36ff78e36f6",
   "metadata": {
    "tags": []
   },
   "outputs": [],
   "source": [
    "import pandas as pd\n",
    "\n",
    "genre_list = [genre for sublist in data['listed_in'].dropna().str.split(', ') for genre in sublist]\n",
    "\n",
    "non_genre_categories = ['International Movies', 'International TV Shows', \n",
    "                        'TV Dramas', 'Independent Movies']\n",
    "\n",
    "filtered_genre_list = [genre for genre in genre_list if genre not in non_genre_categories]\n",
    "filtered_genre_data = pd.DataFrame(filtered_genre_list, columns=['Genre'])\n",
    "\n",
    "genre_counts_data = filtered_genre_data['Genre'].value_counts().reset_index()\n",
    "genre_counts_data.columns = ['Genre', 'Count']\n",
    "\n",
    "top_10_genres = genre_counts_data.head(10)\n",
    "\n",
    "print(\"Top 10 Genres:\")\n",
    "print(top_10_genres)"
   ]
  },
  {
   "cell_type": "markdown",
   "id": "6929fe6b-a908-44a8-9cc1-7c38e97ca0b5",
   "metadata": {},
   "source": [
    "<h1> Visualizing the Top 10 Genres in Pie Chart </h1>"
   ]
  },
  {
   "cell_type": "code",
   "execution_count": null,
   "id": "b1cb255c-1c84-4d4f-8a1c-70c7575988bb",
   "metadata": {
    "tags": []
   },
   "outputs": [],
   "source": [
    "genre_list = [genre for sublist in genres.str.split(', ') for genre in sublist]\n",
    "\n",
    "non_genre_categories = ['International Movies', 'International TV Shows', \n",
    "                        'TV Dramas', 'Independent Movies']\n",
    "\n",
    "filtered_genre_list = [genre for genre in genre_list if genre not in non_genre_categories]\n",
    "filtered_genre_data = pd.DataFrame(filtered_genre_list, columns=['Genre'])\n",
    "genre_counts_data = filtered_genre_data['Genre'].value_counts().reset_index()\n",
    "genre_counts_data.columns = ['Genre', 'Count']\n",
    "top_genres = genre_counts_data.head(10)\n",
    "colors = ['#400000', '#600000', '#800000', '#A00000', '#C00000', '#E00000', \n",
    "          '#FF0000', '#FF4040', '#FF8080', '#FFFFFF']\n",
    "plt.figure(figsize=(15, 10))\n",
    "plt.pie(top_genres['Count'], labels=top_genres['Genre'], autopct='%1.1f%%', \n",
    "        colors=colors, textprops={'color': 'black'}, \n",
    "        wedgeprops={'edgecolor': 'black', 'linewidth': 2})\n",
    "plt.title('Top 10 Most Common Genres',fontsize=16, color='black')\n",
    "plt.show()\n"
   ]
  },
  {
   "cell_type": "markdown",
   "id": "981cd507-0eaf-48e6-bf56-0be458f2ac47",
   "metadata": {},
   "source": [
    "<h1> Correlation Heat Map for all Genres </h1>"
   ]
  },
  {
   "cell_type": "code",
   "execution_count": null,
   "id": "0c1baef2-7bf5-4abe-81eb-f2c83dca7dd5",
   "metadata": {
    "tags": []
   },
   "outputs": [],
   "source": [
    "#list of all genres\n",
    "all_genres = []\n",
    "for entry in genres:\n",
    "    all_genres.extend([genre.strip() for genre in entry.split(',')])\n",
    "\n",
    "genre_df = pd.DataFrame(all_genres, columns=['Genre'])\n",
    "\n",
    "genre_counts = genre_df['Genre'].value_counts()\n",
    "\n",
    "unique_genres = genre_counts.index.tolist()\n",
    "\n",
    "# binary matrix\n",
    "binary_matrix = pd.DataFrame(0, index=unique_genres, columns=unique_genres)\n",
    "for entry in genres:\n",
    "    genre_list = [genre.strip() for genre in entry.split(',')]\n",
    "    for genre1 in genre_list:\n",
    "        for genre2 in genre_list:\n",
    "            if genre1 in binary_matrix.index and genre2 in binary_matrix.columns:\n",
    "                binary_matrix.at[genre1, genre2] = 1\n",
    "\n",
    "correlation_matrix = binary_matrix.corr()\n",
    "\n",
    "colors = ['#400000', '#600000', '#800000', '#A00000', '#C00000', '#E00000', \n",
    "          '#FF0000', '#FF4040', '#FF8080', '#ffdade']\n",
    "\n",
    "cmap = LinearSegmentedColormap.from_list('custom_reds', colors, N=256)\n",
    "\n",
    "plt.figure(figsize=(14, 14))\n",
    "\n",
    "sns.heatmap(correlation_matrix, annot=False, cmap=cmap, vmin=-1, vmax=1,\n",
    "            center=0, linewidths=1, square=True,\n",
    "            cbar_kws={\"shrink\": .8}, mask=np.triu(np.ones_like(correlation_matrix, dtype=bool)))\n",
    "\n",
    "plt.title('Correlation Heatmap of Genres', fontsize=16)\n",
    "plt.xlabel('Genre', fontsize=14)\n",
    "plt.ylabel('Genre', fontsize=14)\n",
    "\n",
    "plt.xticks(rotation=90)\n",
    "plt.yticks(rotation=0)\n",
    "\n",
    "plt.tight_layout()\n",
    "\n",
    "plt.show()"
   ]
  },
  {
   "cell_type": "markdown",
   "id": "b76d35b0-059d-4e1e-bdb3-96ef6ea9d863",
   "metadata": {},
   "source": [
    "<h1> Top 10 Countries producing the most Content </h1>"
   ]
  },
  {
   "cell_type": "code",
   "execution_count": null,
   "id": "c2fcddb0-c28b-4567-b099-85236b77fe6b",
   "metadata": {
    "tags": []
   },
   "outputs": [],
   "source": [
    "country_counts = countries.value_counts()\n",
    "top_10_countries = country_counts.head(10)\n",
    "top_10_countries"
   ]
  },
  {
   "cell_type": "markdown",
   "id": "75089b0e-e698-44f1-934b-f0634fbe868c",
   "metadata": {
    "tags": []
   },
   "source": [
    "<h1> Visualizing the Top 10 Countries producing the most Content in a Bar Graph </h1>"
   ]
  },
  {
   "cell_type": "code",
   "execution_count": null,
   "id": "b0216389-2ecd-4ded-be5b-39f0ac464405",
   "metadata": {
    "tags": []
   },
   "outputs": [],
   "source": [
    "country_counts = countries.value_counts()\n",
    "\n",
    "top_10_countries = country_counts.head(10)\n",
    "\n",
    "colors = ['#400000', '#600000', '#800000', '#A00000', '#C00000', \n",
    "          '#E00000', '#FF0000', '#FF4040', '#FF8080', '#FFFFFF']\n",
    "\n",
    "plt.figure(figsize=(12, 8))\n",
    "plt.bar(top_10_countries.index, top_10_countries.values, color=colors, edgecolor='black')\n",
    "\n",
    "plt.title('Top 10 Countries Producing the Most Content', fontsize=16, color='black')\n",
    "plt.xlabel('Country', fontsize=14, color='black')\n",
    "plt.ylabel('Number of Shows', fontsize=14, color='black')\n",
    "plt.xticks(rotation=45, fontsize=12, color='black')\n",
    "plt.yticks(fontsize=12, color='black')\n",
    "\n",
    "plt.tight_layout()\n",
    "plt.show()"
   ]
  },
  {
   "cell_type": "code",
   "execution_count": null,
   "id": "b82bd66f-c477-4840-9b3a-8d275a844be8",
   "metadata": {
    "tags": []
   },
   "outputs": [],
   "source": [
    "import pandas as pd\n",
    "import matplotlib.pyplot as plt\n",
    "\n",
    "country_counts = countries.value_counts()\n",
    "top_10_countries = country_counts.head(10)\n",
    "\n",
    "colors = ['#400000', '#600000', '#800000', '#A00000', '#C00000', \n",
    "          '#E00000', '#FF0000', '#FF4040', '#FF8080', '#FFFFFF']\n",
    "\n",
    "explode = [0.1] * 3 + [0] * (len(top_10_countries) - 3)\n",
    "\n",
    "plt.figure(figsize=(12, 8))\n",
    "\n",
    "plt.pie(\n",
    "    top_10_countries,\n",
    "    labels=top_10_countries.index,\n",
    "    colors=colors,\n",
    "    explode=explode,\n",
    "    startangle=140,\n",
    "    wedgeprops={'edgecolor': 'black', 'linewidth': 1}\n",
    ")\n",
    "\n",
    "plt.title('Top 10 Countries Producing the Most Content', fontsize=18, fontweight='bold', color='black')\n",
    "\n",
    "plt.gca().set_aspect('equal') \n",
    "plt.tight_layout()\n",
    "\n",
    "plt.show()\n"
   ]
  },
  {
   "cell_type": "markdown",
   "id": "1304bcd3-e698-4f2d-95a7-e13fb4648f07",
   "metadata": {
    "tags": []
   },
   "source": [
    "<h1> Netflix Data Analysis End </h1>"
   ]
  },
  {
   "cell_type": "code",
   "execution_count": null,
   "id": "5a89a8bc-70cd-4ea7-b051-a97409b09b60",
   "metadata": {
    "tags": []
   },
   "outputs": [
    {
     "data": {
      "text/html": [
       "<div>\n",
       "<style scoped>\n",
       "    .dataframe tbody tr th:only-of-type {\n",
       "        vertical-align: middle;\n",
       "    }\n",
       "\n",
       "    .dataframe tbody tr th {\n",
       "        vertical-align: top;\n",
       "    }\n",
       "\n",
       "    .dataframe thead th {\n",
       "        text-align: right;\n",
       "    }\n",
       "</style>\n",
       "<table border=\"1\" class=\"dataframe\">\n",
       "  <thead>\n",
       "    <tr style=\"text-align: right;\">\n",
       "      <th></th>\n",
       "      <th>show_id</th>\n",
       "      <th>type</th>\n",
       "      <th>title</th>\n",
       "      <th>director</th>\n",
       "      <th>cast</th>\n",
       "      <th>country</th>\n",
       "      <th>date_added</th>\n",
       "      <th>release_year</th>\n",
       "      <th>rating</th>\n",
       "      <th>duration</th>\n",
       "      <th>listed_in</th>\n",
       "      <th>description</th>\n",
       "    </tr>\n",
       "  </thead>\n",
       "  <tbody>\n",
       "    <tr>\n",
       "      <th>0</th>\n",
       "      <td>s1</td>\n",
       "      <td>Movie</td>\n",
       "      <td>Dick Johnson Is Dead</td>\n",
       "      <td>Kirsten Johnson</td>\n",
       "      <td>Unknown</td>\n",
       "      <td>United States</td>\n",
       "      <td>September 25, 2021</td>\n",
       "      <td>2020</td>\n",
       "      <td>PG-13</td>\n",
       "      <td>90 min</td>\n",
       "      <td>Documentaries</td>\n",
       "      <td>As her father nears the end of his life, filmm...</td>\n",
       "    </tr>\n",
       "    <tr>\n",
       "      <th>1</th>\n",
       "      <td>s2</td>\n",
       "      <td>TV Show</td>\n",
       "      <td>Blood &amp; Water</td>\n",
       "      <td>Unknown</td>\n",
       "      <td>Ama Qamata, Khosi Ngema, Gail Mabalane, Thaban...</td>\n",
       "      <td>South Africa</td>\n",
       "      <td>September 24, 2021</td>\n",
       "      <td>2021</td>\n",
       "      <td>TV-MA</td>\n",
       "      <td>2 Seasons</td>\n",
       "      <td>International TV Shows, TV Dramas, TV Mysteries</td>\n",
       "      <td>After crossing paths at a party, a Cape Town t...</td>\n",
       "    </tr>\n",
       "    <tr>\n",
       "      <th>2</th>\n",
       "      <td>s3</td>\n",
       "      <td>TV Show</td>\n",
       "      <td>Ganglands</td>\n",
       "      <td>Julien Leclercq</td>\n",
       "      <td>Sami Bouajila, Tracy Gotoas, Samuel Jouy, Nabi...</td>\n",
       "      <td>United States</td>\n",
       "      <td>September 24, 2021</td>\n",
       "      <td>2021</td>\n",
       "      <td>TV-MA</td>\n",
       "      <td>1 Season</td>\n",
       "      <td>Crime TV Shows, International TV Shows, TV Act...</td>\n",
       "      <td>To protect his family from a powerful drug lor...</td>\n",
       "    </tr>\n",
       "    <tr>\n",
       "      <th>3</th>\n",
       "      <td>s4</td>\n",
       "      <td>TV Show</td>\n",
       "      <td>Jailbirds New Orleans</td>\n",
       "      <td>Unknown</td>\n",
       "      <td>Unknown</td>\n",
       "      <td>United States</td>\n",
       "      <td>September 24, 2021</td>\n",
       "      <td>2021</td>\n",
       "      <td>TV-MA</td>\n",
       "      <td>1 Season</td>\n",
       "      <td>Docuseries, Reality TV</td>\n",
       "      <td>Feuds, flirtations and toilet talk go down amo...</td>\n",
       "    </tr>\n",
       "    <tr>\n",
       "      <th>4</th>\n",
       "      <td>s5</td>\n",
       "      <td>TV Show</td>\n",
       "      <td>Kota Factory</td>\n",
       "      <td>Unknown</td>\n",
       "      <td>Mayur More, Jitendra Kumar, Ranjan Raj, Alam K...</td>\n",
       "      <td>India</td>\n",
       "      <td>September 24, 2021</td>\n",
       "      <td>2021</td>\n",
       "      <td>TV-MA</td>\n",
       "      <td>2 Seasons</td>\n",
       "      <td>International TV Shows, Romantic TV Shows, TV ...</td>\n",
       "      <td>In a city of coaching centers known to train I...</td>\n",
       "    </tr>\n",
       "    <tr>\n",
       "      <th>5</th>\n",
       "      <td>s6</td>\n",
       "      <td>TV Show</td>\n",
       "      <td>Midnight Mass</td>\n",
       "      <td>Mike Flanagan</td>\n",
       "      <td>Kate Siegel, Zach Gilford, Hamish Linklater, H...</td>\n",
       "      <td>United States</td>\n",
       "      <td>September 24, 2021</td>\n",
       "      <td>2021</td>\n",
       "      <td>TV-MA</td>\n",
       "      <td>1 Season</td>\n",
       "      <td>TV Dramas, TV Horror, TV Mysteries</td>\n",
       "      <td>The arrival of a charismatic young priest brin...</td>\n",
       "    </tr>\n",
       "    <tr>\n",
       "      <th>6</th>\n",
       "      <td>s7</td>\n",
       "      <td>Movie</td>\n",
       "      <td>My Little Pony: A New Generation</td>\n",
       "      <td>Robert Cullen, José Luis Ucha</td>\n",
       "      <td>Vanessa Hudgens, Kimiko Glenn, James Marsden, ...</td>\n",
       "      <td>United States</td>\n",
       "      <td>September 24, 2021</td>\n",
       "      <td>2021</td>\n",
       "      <td>PG</td>\n",
       "      <td>91 min</td>\n",
       "      <td>Children &amp; Family Movies</td>\n",
       "      <td>Equestria's divided. But a bright-eyed hero be...</td>\n",
       "    </tr>\n",
       "    <tr>\n",
       "      <th>7</th>\n",
       "      <td>s8</td>\n",
       "      <td>Movie</td>\n",
       "      <td>Sankofa</td>\n",
       "      <td>Haile Gerima</td>\n",
       "      <td>Kofi Ghanaba, Oyafunmike Ogunlano, Alexandra D...</td>\n",
       "      <td>United States, Ghana, Burkina Faso, United Kin...</td>\n",
       "      <td>September 24, 2021</td>\n",
       "      <td>1993</td>\n",
       "      <td>TV-MA</td>\n",
       "      <td>125 min</td>\n",
       "      <td>Dramas, Independent Movies, International Movies</td>\n",
       "      <td>On a photo shoot in Ghana, an American model s...</td>\n",
       "    </tr>\n",
       "    <tr>\n",
       "      <th>8</th>\n",
       "      <td>s9</td>\n",
       "      <td>TV Show</td>\n",
       "      <td>The Great British Baking Show</td>\n",
       "      <td>Andy Devonshire</td>\n",
       "      <td>Mel Giedroyc, Sue Perkins, Mary Berry, Paul Ho...</td>\n",
       "      <td>United Kingdom</td>\n",
       "      <td>September 24, 2021</td>\n",
       "      <td>2021</td>\n",
       "      <td>TV-14</td>\n",
       "      <td>9 Seasons</td>\n",
       "      <td>British TV Shows, Reality TV</td>\n",
       "      <td>A talented batch of amateur bakers face off in...</td>\n",
       "    </tr>\n",
       "    <tr>\n",
       "      <th>9</th>\n",
       "      <td>s10</td>\n",
       "      <td>Movie</td>\n",
       "      <td>The Starling</td>\n",
       "      <td>Theodore Melfi</td>\n",
       "      <td>Melissa McCarthy, Chris O'Dowd, Kevin Kline, T...</td>\n",
       "      <td>United States</td>\n",
       "      <td>September 24, 2021</td>\n",
       "      <td>2021</td>\n",
       "      <td>PG-13</td>\n",
       "      <td>104 min</td>\n",
       "      <td>Comedies, Dramas</td>\n",
       "      <td>A woman adjusting to life after a loss contend...</td>\n",
       "    </tr>\n",
       "  </tbody>\n",
       "</table>\n",
       "</div>"
      ],
      "text/plain": [
       "  show_id     type                             title  \\\n",
       "0      s1    Movie              Dick Johnson Is Dead   \n",
       "1      s2  TV Show                     Blood & Water   \n",
       "2      s3  TV Show                         Ganglands   \n",
       "3      s4  TV Show             Jailbirds New Orleans   \n",
       "4      s5  TV Show                      Kota Factory   \n",
       "5      s6  TV Show                     Midnight Mass   \n",
       "6      s7    Movie  My Little Pony: A New Generation   \n",
       "7      s8    Movie                           Sankofa   \n",
       "8      s9  TV Show     The Great British Baking Show   \n",
       "9     s10    Movie                      The Starling   \n",
       "\n",
       "                        director  \\\n",
       "0                Kirsten Johnson   \n",
       "1                        Unknown   \n",
       "2                Julien Leclercq   \n",
       "3                        Unknown   \n",
       "4                        Unknown   \n",
       "5                  Mike Flanagan   \n",
       "6  Robert Cullen, José Luis Ucha   \n",
       "7                   Haile Gerima   \n",
       "8                Andy Devonshire   \n",
       "9                 Theodore Melfi   \n",
       "\n",
       "                                                cast  \\\n",
       "0                                            Unknown   \n",
       "1  Ama Qamata, Khosi Ngema, Gail Mabalane, Thaban...   \n",
       "2  Sami Bouajila, Tracy Gotoas, Samuel Jouy, Nabi...   \n",
       "3                                            Unknown   \n",
       "4  Mayur More, Jitendra Kumar, Ranjan Raj, Alam K...   \n",
       "5  Kate Siegel, Zach Gilford, Hamish Linklater, H...   \n",
       "6  Vanessa Hudgens, Kimiko Glenn, James Marsden, ...   \n",
       "7  Kofi Ghanaba, Oyafunmike Ogunlano, Alexandra D...   \n",
       "8  Mel Giedroyc, Sue Perkins, Mary Berry, Paul Ho...   \n",
       "9  Melissa McCarthy, Chris O'Dowd, Kevin Kline, T...   \n",
       "\n",
       "                                             country          date_added  \\\n",
       "0                                      United States  September 25, 2021   \n",
       "1                                       South Africa  September 24, 2021   \n",
       "2                                      United States  September 24, 2021   \n",
       "3                                      United States  September 24, 2021   \n",
       "4                                              India  September 24, 2021   \n",
       "5                                      United States  September 24, 2021   \n",
       "6                                      United States  September 24, 2021   \n",
       "7  United States, Ghana, Burkina Faso, United Kin...  September 24, 2021   \n",
       "8                                     United Kingdom  September 24, 2021   \n",
       "9                                      United States  September 24, 2021   \n",
       "\n",
       "   release_year rating   duration  \\\n",
       "0          2020  PG-13     90 min   \n",
       "1          2021  TV-MA  2 Seasons   \n",
       "2          2021  TV-MA   1 Season   \n",
       "3          2021  TV-MA   1 Season   \n",
       "4          2021  TV-MA  2 Seasons   \n",
       "5          2021  TV-MA   1 Season   \n",
       "6          2021     PG     91 min   \n",
       "7          1993  TV-MA    125 min   \n",
       "8          2021  TV-14  9 Seasons   \n",
       "9          2021  PG-13    104 min   \n",
       "\n",
       "                                           listed_in  \\\n",
       "0                                      Documentaries   \n",
       "1    International TV Shows, TV Dramas, TV Mysteries   \n",
       "2  Crime TV Shows, International TV Shows, TV Act...   \n",
       "3                             Docuseries, Reality TV   \n",
       "4  International TV Shows, Romantic TV Shows, TV ...   \n",
       "5                 TV Dramas, TV Horror, TV Mysteries   \n",
       "6                           Children & Family Movies   \n",
       "7   Dramas, Independent Movies, International Movies   \n",
       "8                       British TV Shows, Reality TV   \n",
       "9                                   Comedies, Dramas   \n",
       "\n",
       "                                         description  \n",
       "0  As her father nears the end of his life, filmm...  \n",
       "1  After crossing paths at a party, a Cape Town t...  \n",
       "2  To protect his family from a powerful drug lor...  \n",
       "3  Feuds, flirtations and toilet talk go down amo...  \n",
       "4  In a city of coaching centers known to train I...  \n",
       "5  The arrival of a charismatic young priest brin...  \n",
       "6  Equestria's divided. But a bright-eyed hero be...  \n",
       "7  On a photo shoot in Ghana, an American model s...  \n",
       "8  A talented batch of amateur bakers face off in...  \n",
       "9  A woman adjusting to life after a loss contend...  "
      ]
     },
     "execution_count": 21,
     "metadata": {},
     "output_type": "execute_result"
    }
   ],
   "source": [
    "data.head(10)"
   ]
  },
  {
   "cell_type": "code",
   "execution_count": null,
   "id": "58548ade-a0d0-4e4b-a3cf-dffbad4bcef3",
   "metadata": {
    "tags": []
   },
   "outputs": [],
   "source": [
    "data.to_csv('Netflix-Cleaned-Data.csv', index=False)"
   ]
  },
  {
   "cell_type": "code",
   "execution_count": null,
   "id": "8128bbd0-5522-41fc-b919-514b45f0bb0c",
   "metadata": {},
   "outputs": [],
   "source": []
  }
 ],
 "metadata": {
  "kernelspec": {
   "display_name": "Python 3 (ipykernel)",
   "language": "python",
   "name": "python3"
  },
  "language_info": {
   "codemirror_mode": {
    "name": "ipython",
    "version": 3
   },
   "file_extension": ".py",
   "mimetype": "text/x-python",
   "name": "python",
   "nbconvert_exporter": "python",
   "pygments_lexer": "ipython3",
   "version": "3.12.4"
  },
  "toc-autonumbering": false,
  "toc-showcode": false,
  "toc-showmarkdowntxt": true
 },
 "nbformat": 4,
 "nbformat_minor": 5
}
