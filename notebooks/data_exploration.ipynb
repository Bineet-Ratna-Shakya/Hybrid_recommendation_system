{
 "cells": [
  {
   "cell_type": "code",
   "execution_count": 1,
   "metadata": {},
   "outputs": [],
   "source": [
    "import pandas as pd"
   ]
  },
  {
   "cell_type": "code",
   "execution_count": 2,
   "metadata": {},
   "outputs": [],
   "source": [
    "file_path = '/Users/soul/Documents/hybrid_recommendation_system/data/Netflix-Cleaned-Data.csv'\n",
    "df = pd.read_csv(file_path)"
   ]
  },
  {
   "cell_type": "code",
   "execution_count": 3,
   "metadata": {},
   "outputs": [
    {
     "name": "stdout",
     "output_type": "stream",
     "text": [
      "<class 'pandas.core.frame.DataFrame'>\n",
      "RangeIndex: 8807 entries, 0 to 8806\n",
      "Data columns (total 12 columns):\n",
      " #   Column        Non-Null Count  Dtype \n",
      "---  ------        --------------  ----- \n",
      " 0   show_id       8807 non-null   object\n",
      " 1   type          8807 non-null   object\n",
      " 2   title         8807 non-null   object\n",
      " 3   director      8807 non-null   object\n",
      " 4   cast          8807 non-null   object\n",
      " 5   country       8807 non-null   object\n",
      " 6   date_added    8807 non-null   object\n",
      " 7   release_year  8807 non-null   int64 \n",
      " 8   rating        8807 non-null   object\n",
      " 9   duration      8807 non-null   object\n",
      " 10  listed_in     8807 non-null   object\n",
      " 11  description   8807 non-null   object\n",
      "dtypes: int64(1), object(11)\n",
      "memory usage: 825.8+ KB\n"
     ]
    }
   ],
   "source": [
    "df_info = df.info()\n",
    "df_head = df.head()"
   ]
  },
  {
   "cell_type": "code",
   "execution_count": 4,
   "metadata": {},
   "outputs": [],
   "source": [
    "df_describe = df.describe(include='all')"
   ]
  },
  {
   "cell_type": "code",
   "execution_count": 5,
   "metadata": {},
   "outputs": [
    {
     "data": {
      "text/plain": [
       "(None,\n",
       "   show_id     type                  title         director  \\\n",
       " 0      s1    Movie   Dick Johnson Is Dead  Kirsten Johnson   \n",
       " 1      s2  TV Show          Blood & Water          Unknown   \n",
       " 2      s3  TV Show              Ganglands  Julien Leclercq   \n",
       " 3      s4  TV Show  Jailbirds New Orleans          Unknown   \n",
       " 4      s5  TV Show           Kota Factory          Unknown   \n",
       " \n",
       "                                                 cast        country  \\\n",
       " 0                                            Unknown  United States   \n",
       " 1  Ama Qamata, Khosi Ngema, Gail Mabalane, Thaban...   South Africa   \n",
       " 2  Sami Bouajila, Tracy Gotoas, Samuel Jouy, Nabi...  United States   \n",
       " 3                                            Unknown  United States   \n",
       " 4  Mayur More, Jitendra Kumar, Ranjan Raj, Alam K...          India   \n",
       " \n",
       "            date_added  release_year rating   duration  \\\n",
       " 0  September 25, 2021          2020  PG-13     90 min   \n",
       " 1  September 24, 2021          2021  TV-MA  2 Seasons   \n",
       " 2  September 24, 2021          2021  TV-MA   1 Season   \n",
       " 3  September 24, 2021          2021  TV-MA   1 Season   \n",
       " 4  September 24, 2021          2021  TV-MA  2 Seasons   \n",
       " \n",
       "                                            listed_in  \\\n",
       " 0                                      Documentaries   \n",
       " 1    International TV Shows, TV Dramas, TV Mysteries   \n",
       " 2  Crime TV Shows, International TV Shows, TV Act...   \n",
       " 3                             Docuseries, Reality TV   \n",
       " 4  International TV Shows, Romantic TV Shows, TV ...   \n",
       " \n",
       "                                          description  \n",
       " 0  As her father nears the end of his life, filmm...  \n",
       " 1  After crossing paths at a party, a Cape Town t...  \n",
       " 2  To protect his family from a powerful drug lor...  \n",
       " 3  Feuds, flirtations and toilet talk go down amo...  \n",
       " 4  In a city of coaching centers known to train I...  ,\n",
       "        show_id   type                 title director     cast        country  \\\n",
       " count     8807   8807                  8807     8807     8807           8807   \n",
       " unique    8807      2                  8807     4529     7693            748   \n",
       " top         s1  Movie  Dick Johnson Is Dead  Unknown  Unknown  United States   \n",
       " freq         1   6131                     1     2634      825           3649   \n",
       " mean       NaN    NaN                   NaN      NaN      NaN            NaN   \n",
       " std        NaN    NaN                   NaN      NaN      NaN            NaN   \n",
       " min        NaN    NaN                   NaN      NaN      NaN            NaN   \n",
       " 25%        NaN    NaN                   NaN      NaN      NaN            NaN   \n",
       " 50%        NaN    NaN                   NaN      NaN      NaN            NaN   \n",
       " 75%        NaN    NaN                   NaN      NaN      NaN            NaN   \n",
       " max        NaN    NaN                   NaN      NaN      NaN            NaN   \n",
       " \n",
       "              date_added  release_year rating  duration  \\\n",
       " count              8807   8807.000000   8807      8807   \n",
       " unique             1768           NaN     18       221   \n",
       " top     January 1, 2020           NaN  TV-MA  1 Season   \n",
       " freq                109           NaN   3207      1793   \n",
       " mean                NaN   2014.180198    NaN       NaN   \n",
       " std                 NaN      8.819312    NaN       NaN   \n",
       " min                 NaN   1925.000000    NaN       NaN   \n",
       " 25%                 NaN   2013.000000    NaN       NaN   \n",
       " 50%                 NaN   2017.000000    NaN       NaN   \n",
       " 75%                 NaN   2019.000000    NaN       NaN   \n",
       " max                 NaN   2021.000000    NaN       NaN   \n",
       " \n",
       "                            listed_in  \\\n",
       " count                           8807   \n",
       " unique                           514   \n",
       " top     Dramas, International Movies   \n",
       " freq                             362   \n",
       " mean                             NaN   \n",
       " std                              NaN   \n",
       " min                              NaN   \n",
       " 25%                              NaN   \n",
       " 50%                              NaN   \n",
       " 75%                              NaN   \n",
       " max                              NaN   \n",
       " \n",
       "                                               description  \n",
       " count                                                8807  \n",
       " unique                                               8775  \n",
       " top     Paranormal activity at a lush, abandoned prope...  \n",
       " freq                                                    4  \n",
       " mean                                                  NaN  \n",
       " std                                                   NaN  \n",
       " min                                                   NaN  \n",
       " 25%                                                   NaN  \n",
       " 50%                                                   NaN  \n",
       " 75%                                                   NaN  \n",
       " max                                                   NaN  )"
      ]
     },
     "execution_count": 5,
     "metadata": {},
     "output_type": "execute_result"
    }
   ],
   "source": [
    "df_info, df_head, df_describe\n"
   ]
  },
  {
   "cell_type": "code",
   "execution_count": 6,
   "metadata": {},
   "outputs": [],
   "source": [
    "df['date_added'] = df['date_added'].replace('Unknown', pd.NaT)\n"
   ]
  },
  {
   "cell_type": "code",
   "execution_count": 9,
   "metadata": {},
   "outputs": [],
   "source": [
    "df['date_added'] = pd.to_datetime(df['date_added'], format='%B %d, %Y', errors='coerce')\n"
   ]
  },
  {
   "cell_type": "code",
   "execution_count": 10,
   "metadata": {},
   "outputs": [
    {
     "name": "stdout",
     "output_type": "stream",
     "text": [
      "<class 'pandas.core.frame.DataFrame'>\n",
      "RangeIndex: 8807 entries, 0 to 8806\n",
      "Data columns (total 12 columns):\n",
      " #   Column        Non-Null Count  Dtype         \n",
      "---  ------        --------------  -----         \n",
      " 0   show_id       8807 non-null   object        \n",
      " 1   type          8807 non-null   object        \n",
      " 2   title         8807 non-null   object        \n",
      " 3   director      8807 non-null   object        \n",
      " 4   cast          8807 non-null   object        \n",
      " 5   country       8807 non-null   object        \n",
      " 6   date_added    8709 non-null   datetime64[ns]\n",
      " 7   release_year  8807 non-null   int64         \n",
      " 8   rating        8807 non-null   object        \n",
      " 9   duration      8807 non-null   object        \n",
      " 10  listed_in     8807 non-null   object        \n",
      " 11  description   8807 non-null   object        \n",
      "dtypes: datetime64[ns](1), int64(1), object(10)\n",
      "memory usage: 825.8+ KB\n"
     ]
    }
   ],
   "source": [
    "df_info_updated = df.info()\n",
    "df_head_updated = df.head()"
   ]
  },
  {
   "cell_type": "code",
   "execution_count": 11,
   "metadata": {},
   "outputs": [
    {
     "data": {
      "text/plain": [
       "(None,\n",
       "   show_id     type                  title         director  \\\n",
       " 0      s1    Movie   Dick Johnson Is Dead  Kirsten Johnson   \n",
       " 1      s2  TV Show          Blood & Water          Unknown   \n",
       " 2      s3  TV Show              Ganglands  Julien Leclercq   \n",
       " 3      s4  TV Show  Jailbirds New Orleans          Unknown   \n",
       " 4      s5  TV Show           Kota Factory          Unknown   \n",
       " \n",
       "                                                 cast        country  \\\n",
       " 0                                            Unknown  United States   \n",
       " 1  Ama Qamata, Khosi Ngema, Gail Mabalane, Thaban...   South Africa   \n",
       " 2  Sami Bouajila, Tracy Gotoas, Samuel Jouy, Nabi...  United States   \n",
       " 3                                            Unknown  United States   \n",
       " 4  Mayur More, Jitendra Kumar, Ranjan Raj, Alam K...          India   \n",
       " \n",
       "   date_added  release_year rating   duration  \\\n",
       " 0 2021-09-25          2020  PG-13     90 min   \n",
       " 1 2021-09-24          2021  TV-MA  2 Seasons   \n",
       " 2 2021-09-24          2021  TV-MA   1 Season   \n",
       " 3 2021-09-24          2021  TV-MA   1 Season   \n",
       " 4 2021-09-24          2021  TV-MA  2 Seasons   \n",
       " \n",
       "                                            listed_in  \\\n",
       " 0                                      Documentaries   \n",
       " 1    International TV Shows, TV Dramas, TV Mysteries   \n",
       " 2  Crime TV Shows, International TV Shows, TV Act...   \n",
       " 3                             Docuseries, Reality TV   \n",
       " 4  International TV Shows, Romantic TV Shows, TV ...   \n",
       " \n",
       "                                          description  \n",
       " 0  As her father nears the end of his life, filmm...  \n",
       " 1  After crossing paths at a party, a Cape Town t...  \n",
       " 2  To protect his family from a powerful drug lor...  \n",
       " 3  Feuds, flirtations and toilet talk go down amo...  \n",
       " 4  In a city of coaching centers known to train I...  )"
      ]
     },
     "execution_count": 11,
     "metadata": {},
     "output_type": "execute_result"
    }
   ],
   "source": [
    "df_info_updated, df_head_updated"
   ]
  },
  {
   "cell_type": "code",
   "execution_count": null,
   "metadata": {},
   "outputs": [],
   "source": []
  }
 ],
 "metadata": {
  "kernelspec": {
   "display_name": "venv",
   "language": "python",
   "name": "python3"
  },
  "language_info": {
   "codemirror_mode": {
    "name": "ipython",
    "version": 3
   },
   "file_extension": ".py",
   "mimetype": "text/x-python",
   "name": "python",
   "nbconvert_exporter": "python",
   "pygments_lexer": "ipython3",
   "version": "3.12.4"
  }
 },
 "nbformat": 4,
 "nbformat_minor": 2
}
